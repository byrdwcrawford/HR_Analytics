{
 "cells": [
  {
   "cell_type": "code",
   "execution_count": null,
   "metadata": {},
   "outputs": [],
   "source": [
    "import pandas as pd\n",
    "\n",
    "df = pd.read_csv('sample_submission.csv')\n",
    "\n",
    "df"
   ]
  },
  {
   "cell_type": "markdown",
   "metadata": {},
   "source": [
    "test.csv is similar dataset, but missing the sale price (1 less column)"
   ]
  },
  {
   "cell_type": "markdown",
   "metadata": {},
   "source": [
    "## Housing Price Data"
   ]
  },
  {
   "cell_type": "code",
   "execution_count": null,
   "metadata": {
    "scrolled": false
   },
   "outputs": [],
   "source": [
    "df1 = pd.read_csv('train.csv')\n",
    "df1"
   ]
  },
  {
   "cell_type": "code",
   "execution_count": null,
   "metadata": {
    "scrolled": true
   },
   "outputs": [],
   "source": [
    "df1.info()\n"
   ]
  },
  {
   "cell_type": "markdown",
   "metadata": {},
   "source": [
    "SalePrice - the property's sale price in dollars. This is the target variable that you're trying to predict.  \n",
    "MSSubClass: The building class  \n",
    "MSZoning: The general zoning classification  \n",
    "LotFrontage: Linear feet of street connected to property  \n",
    "LotArea: Lot size in square feet  \n",
    "Street: Type of road access  \n",
    "Alley: Type of alley access  \n",
    "LotShape: General shape of property  \n",
    "LandContour: Flatness of the property  \n",
    "Utilities: Type of utilities available  \n",
    "LotConfig: Lot configuration  \n",
    "LandSlope: Slope of property  \n",
    "Neighborhood: Physical locations within Ames city limits  \n",
    "Condition1: Proximity to main road or railroad  \n",
    "Condition2: Proximity to main road or railroad (if a second is present)  \n",
    "BldgType: Type of dwelling  \n",
    "HouseStyle: Style of dwelling  \n",
    "OverallQual: Overall material and finish quality  \n",
    "OverallCond: Overall condition rating  \n",
    "YearBuilt: Original construction date  \n",
    "YearRemodAdd: Remodel date  \n",
    "RoofStyle: Type of roof  \n",
    "RoofMatl: Roof material  \n",
    "Exterior1st: Exterior covering on house  \n",
    "Exterior2nd: Exterior covering on house (if more than one material)    \n",
    "MasVnrType: Masonry veneer type  \n",
    "MasVnrArea: Masonry veneer area in square feet  \n",
    "ExterQual: Exterior material quality  \n",
    "ExterCond: Present condition of the material on the exterior  \n",
    "Foundation: Type of foundation  \n",
    "BsmtQual: Height of the basement  \n",
    "BsmtCond: General condition of the basement  \n",
    "BsmtExposure: Walkout or garden level basement walls  \n",
    "BsmtFinType1: Quality of basement finished area  \n",
    "BsmtFinSF1: Type 1 finished square feet  \n",
    "BsmtFinType2: Quality of second finished area (if present)  \n",
    "BsmtFinSF2: Type 2 finished square feet  \n",
    "BsmtUnfSF: Unfinished square feet of basement area  \n",
    "TotalBsmtSF: Total square feet of basement area  \n",
    "Heating: Type of heating  \n",
    "HeatingQC: Heating quality and condition  \n",
    "CentralAir: Central air conditioning  \n",
    "Electrical: Electrical system  \n",
    "1stFlrSF: First Floor square feet  \n",
    "2ndFlrSF: Second floor square feet  \n",
    "LowQualFinSF: Low quality finished square feet (all floors)  \n",
    "GrLivArea: Above grade (ground) living area square feet  \n",
    "BsmtFullBath: Basement full bathrooms  \n",
    "BsmtHalfBath: Basement half bathrooms  \n",
    "FullBath: Full bathrooms above grade  \n",
    "HalfBath: Half baths above grade  \n",
    "Bedroom: Number of bedrooms above basement level  \n",
    "Kitchen: Number of kitchens  \n",
    "KitchenQual: Kitchen quality  \n",
    "TotRmsAbvGrd: Total rooms above grade (does not include bathrooms)  \n",
    "Functional: Home functionality rating  \n",
    "Fireplaces: Number of fireplaces  \n",
    "FireplaceQu: Fireplace quality  \n",
    "GarageType: Garage location   \n",
    "GarageYrBlt: Year garage was built   \n",
    "GarageFinish: Interior finish of the garage  \n",
    "GarageCars: Size of garage in car capacity  \n",
    "GarageArea: Size of garage in square feet  \n",
    "GarageQual: Garage quality  \n",
    "GarageCond: Garage condition  \n",
    "PavedDrive: Paved driveway  \n",
    "WoodDeckSF: Wood deck area in square feet  \n",
    "OpenPorchSF: Open porch area in square feet  \n",
    "EnclosedPorch: Enclosed porch area in square feet  \n",
    "3SsnPorch: Three season porch area in square feet  \n",
    "ScreenPorch: Screen porch area in square feet  \n",
    "PoolArea: Pool area in square feet  \n",
    "PoolQC: Pool quality  \n",
    "Fence: Fence quality  \n",
    "MiscFeature: Miscellaneous feature not covered in other categories  \n",
    "MiscVal: $Value of miscellaneous feature  \n",
    "MoSold: Month Sold  \n",
    "YrSold: Year Sold  \n",
    "SaleType: Type of sale          \n",
    "SaleCondition: Condition of sale   "
   ]
  },
  {
   "cell_type": "code",
   "execution_count": null,
   "metadata": {
    "scrolled": false
   },
   "outputs": [],
   "source": [
    "df1['MSSubClass'].value_counts()"
   ]
  },
  {
   "cell_type": "markdown",
   "metadata": {},
   "source": [
    "20-1 story, newer than 1946  \n",
    "60-2 story, newer than 1946  \n",
    "50-1.5 story, finished all ages  \n",
    "120- 1 story Planned Unit Development newer 1946  \n",
    "30-1 story, older than 1946    \n",
    "160-2 story PUD 1946 newer  \n",
    "70-2 story, 1845 older    \n",
    "80-split, multilevel   \n",
    "90-duplex all ages  "
   ]
  },
  {
   "cell_type": "code",
   "execution_count": null,
   "metadata": {
    "scrolled": true
   },
   "outputs": [],
   "source": [
    "df1['MSZoning'].value_counts()"
   ]
  },
  {
   "cell_type": "markdown",
   "metadata": {},
   "source": [
    "vast majority are Residential Low Density"
   ]
  },
  {
   "cell_type": "code",
   "execution_count": null,
   "metadata": {
    "scrolled": true
   },
   "outputs": [],
   "source": [
    "grouped_df = df1.groupby(['YrSold', 'YearRemodAdd'])\n",
    "group_sizes = grouped_df.size()\n",
    "print(group_sizes)\n",
    "\n"
   ]
  },
  {
   "cell_type": "code",
   "execution_count": null,
   "metadata": {},
   "outputs": [],
   "source": [
    "grouped_df = df1.groupby(['GarageCond', 'YearRemodAdd'])\n",
    "group_sizes = grouped_df.size()\n",
    "print(group_sizes)"
   ]
  },
  {
   "cell_type": "code",
   "execution_count": null,
   "metadata": {},
   "outputs": [],
   "source": [
    "df1['GarageCond'].value_counts()"
   ]
  },
  {
   "cell_type": "code",
   "execution_count": null,
   "metadata": {},
   "outputs": [],
   "source": [
    "df1['MSZoning'].value_counts()"
   ]
  },
  {
   "cell_type": "code",
   "execution_count": null,
   "metadata": {
    "scrolled": true
   },
   "outputs": [],
   "source": [
    "df1['Fence'].value_counts()"
   ]
  },
  {
   "cell_type": "code",
   "execution_count": null,
   "metadata": {},
   "outputs": [],
   "source": [
    "df1['YrSold'].value_counts()"
   ]
  },
  {
   "cell_type": "code",
   "execution_count": null,
   "metadata": {},
   "outputs": [],
   "source": [
    "from sklearn.preprocessing import LabelEncoder\n",
    "\n",
    "label_encoder = LabelEncoder()\n",
    "\n",
    "columns_to_encode = ['Street', 'LotShape', 'LandContour', 'Utilities', 'LotConfig', 'LandSlope', 'BldgType', 'HouseStyle', 'GarageType', 'Fence', 'PoolQC', 'PavedDrive', 'GarageCond']\n",
    "for column in columns_to_encode:\n",
    "    df1[column] = label_encoder.fit_transform(df1[column])\n",
    "\n",
    "df1"
   ]
  },
  {
   "cell_type": "code",
   "execution_count": null,
   "metadata": {
    "scrolled": true
   },
   "outputs": [],
   "source": [
    "df1 = df1.drop(columns=[\n",
    "    'MSZoning',\n",
    "    'LotFrontage',\n",
    "    'Alley',\n",
    "    'Neighborhood',\n",
    "    'Condition1',\n",
    "    'Condition2',\n",
    "    'RoofStyle',\n",
    "    'Exterior1st',\n",
    "    'Exterior2nd',\n",
    "    'MasVnrArea',\n",
    "    'BsmtExposure',\n",
    "    'LowQualFinSF',\n",
    "    'Functional',\n",
    "    '3SsnPorch',\n",
    "    'PoolArea',\n",
    "    'MiscFeature',\n",
    "    'SaleType',\n",
    "    'FireplaceQu'\n",
    "])\n",
    "df1"
   ]
  },
  {
   "cell_type": "code",
   "execution_count": null,
   "metadata": {},
   "outputs": [],
   "source": []
  },
  {
   "cell_type": "code",
   "execution_count": null,
   "metadata": {},
   "outputs": [],
   "source": []
  },
  {
   "cell_type": "code",
   "execution_count": null,
   "metadata": {},
   "outputs": [],
   "source": []
  },
  {
   "cell_type": "code",
   "execution_count": null,
   "metadata": {},
   "outputs": [],
   "source": []
  },
  {
   "cell_type": "code",
   "execution_count": null,
   "metadata": {
    "scrolled": true
   },
   "outputs": [],
   "source": [
    "df1.corr()"
   ]
  },
  {
   "cell_type": "code",
   "execution_count": null,
   "metadata": {},
   "outputs": [],
   "source": []
  },
  {
   "cell_type": "code",
   "execution_count": null,
   "metadata": {},
   "outputs": [],
   "source": []
  },
  {
   "cell_type": "code",
   "execution_count": null,
   "metadata": {},
   "outputs": [],
   "source": []
  },
  {
   "cell_type": "markdown",
   "metadata": {},
   "source": [
    "Strongest positive correlations between Sale Price and:\n",
    "\n",
    "* Overall Quality  \n",
    "* Year Built  \n",
    "* Year Remodeled  \n",
    "* 1sr floor SQft  \n",
    "* basement SQft  \n",
    "* Garage Area  \n",
    "* Rooms above ground  \n",
    "\n",
    "Strongest Negative Correlation between Sale Price and:  \n",
    "  \n",
    "* Enclosed Porch\n",
    "* MSSubclass\n",
    "* Overall Cond\n",
    "* Year Sold"
   ]
  },
  {
   "cell_type": "code",
   "execution_count": null,
   "metadata": {},
   "outputs": [],
   "source": [
    "import matplotlib.pyplot as plt\n",
    "import seaborn as sns\n",
    "\n",
    "# Histogram of Sale Price\n",
    "plt.figure(figsize=(10, 6))\n",
    "sns.histplot(df1['SalePrice'], kde=True)\n",
    "plt.title('Histogram of Sale Price')\n",
    "plt.xlabel('Sale Price')\n",
    "plt.ylabel('Frequency')\n",
    "plt.show()\n",
    "\n",
    "\n"
   ]
  },
  {
   "cell_type": "code",
   "execution_count": null,
   "metadata": {},
   "outputs": [],
   "source": [
    "# Line Plot of Year Sold\n",
    "plt.figure(figsize=(10, 6))\n",
    "sns.lineplot(data=df1['YrSold'].value_counts().sort_index(), marker='o')\n",
    "plt.title('Number of Houses Sold Each Year')\n",
    "plt.xlabel('Year Sold')\n",
    "plt.ylabel('Number of Houses Sold')\n",
    "plt.show()\n",
    "\n"
   ]
  },
  {
   "cell_type": "code",
   "execution_count": null,
   "metadata": {},
   "outputs": [],
   "source": [
    "# Bar Plot of Year Remodeled\n",
    "plt.figure(figsize=(10, 6))\n",
    "sns.countplot(data=df1, x='YearRemodAdd')\n",
    "plt.title('Number of Houses Remodeled Each Year')\n",
    "plt.xlabel('Year Remodeled')\n",
    "plt.ylabel('Frequency')\n",
    "plt.xticks(rotation=45)\n",
    "plt.show()"
   ]
  },
  {
   "cell_type": "code",
   "execution_count": null,
   "metadata": {},
   "outputs": [],
   "source": [
    "# Box Plot of Sale Price by Overall Quality\n",
    "plt.figure(figsize=(10, 6))\n",
    "sns.boxplot(data=df1, x='OverallQual', y='SalePrice')\n",
    "plt.title('Sale Price Distribution by Overall Quality')\n",
    "plt.xlabel('Overall Quality')\n",
    "plt.ylabel('Sale Price')\n",
    "plt.show()"
   ]
  },
  {
   "cell_type": "code",
   "execution_count": null,
   "metadata": {},
   "outputs": [],
   "source": [
    "# Scatter Plot of Sale Price vs. Year Built\n",
    "plt.figure(figsize=(10, 6))\n",
    "sns.scatterplot(data=df1, x='YearBuilt', y='SalePrice', alpha=0.5)\n",
    "plt.title('Sale Price vs. Year Built')\n",
    "plt.xlabel('Year Built')\n",
    "plt.ylabel('Sale Price')\n",
    "plt.show()"
   ]
  },
  {
   "cell_type": "markdown",
   "metadata": {},
   "source": [
    "### Project  1\n",
    "Modelling which homes are most expensive for residential real estate company to determine which houses to buy and why."
   ]
  },
  {
   "cell_type": "markdown",
   "metadata": {},
   "source": [
    "Regression for continous variable\n",
    "* explanatory -lots of power\n",
    "* predictve-tough to strengthen  \n",
    "\n",
    "\n",
    "**Find homes that are underpriced?  \n",
    "Neighborhood is important**  \n",
    "\n",
    "Make it more about analysis, interpret metrics through lense of importance, what creates variance, real estate investor to find pattern for investment.\n"
   ]
  },
  {
   "cell_type": "code",
   "execution_count": null,
   "metadata": {},
   "outputs": [],
   "source": []
  },
  {
   "cell_type": "code",
   "execution_count": null,
   "metadata": {},
   "outputs": [],
   "source": []
  },
  {
   "cell_type": "code",
   "execution_count": null,
   "metadata": {},
   "outputs": [],
   "source": []
  },
  {
   "cell_type": "code",
   "execution_count": null,
   "metadata": {},
   "outputs": [],
   "source": []
  },
  {
   "cell_type": "code",
   "execution_count": null,
   "metadata": {},
   "outputs": [],
   "source": []
  },
  {
   "cell_type": "code",
   "execution_count": null,
   "metadata": {},
   "outputs": [],
   "source": []
  },
  {
   "cell_type": "code",
   "execution_count": null,
   "metadata": {},
   "outputs": [],
   "source": []
  },
  {
   "cell_type": "code",
   "execution_count": null,
   "metadata": {},
   "outputs": [],
   "source": []
  },
  {
   "cell_type": "code",
   "execution_count": null,
   "metadata": {},
   "outputs": [],
   "source": []
  },
  {
   "cell_type": "code",
   "execution_count": null,
   "metadata": {},
   "outputs": [],
   "source": []
  },
  {
   "cell_type": "code",
   "execution_count": null,
   "metadata": {},
   "outputs": [],
   "source": []
  },
  {
   "cell_type": "markdown",
   "metadata": {},
   "source": [
    "## HR Data Project"
   ]
  },
  {
   "cell_type": "code",
   "execution_count": null,
   "metadata": {
    "scrolled": true
   },
   "outputs": [],
   "source": [
    "df2 = pd.read_csv('hr_data.csv')\n",
    "df2"
   ]
  },
  {
   "cell_type": "markdown",
   "metadata": {},
   "source": [
    "binary classification on 'Attrition\""
   ]
  },
  {
   "cell_type": "code",
   "execution_count": null,
   "metadata": {
    "scrolled": false
   },
   "outputs": [],
   "source": [
    "df2.info()"
   ]
  },
  {
   "cell_type": "code",
   "execution_count": null,
   "metadata": {
    "scrolled": true
   },
   "outputs": [],
   "source": [
    "df2['Attrition'].value_counts()"
   ]
  },
  {
   "cell_type": "markdown",
   "metadata": {},
   "source": [
    "* SMOTE yes value    \n",
    "* Random UNdersampling with stratification   \n",
    "\n",
    "* this is a **limitation**"
   ]
  },
  {
   "cell_type": "code",
   "execution_count": null,
   "metadata": {},
   "outputs": [],
   "source": [
    "df2['BusinessTravel'].value_counts()"
   ]
  },
  {
   "cell_type": "code",
   "execution_count": null,
   "metadata": {},
   "outputs": [],
   "source": [
    "df2['Department'].value_counts()"
   ]
  },
  {
   "cell_type": "code",
   "execution_count": null,
   "metadata": {},
   "outputs": [],
   "source": [
    "df2['DistanceFromHome'].value_counts()"
   ]
  },
  {
   "cell_type": "code",
   "execution_count": null,
   "metadata": {},
   "outputs": [],
   "source": [
    "df2['Education'].value_counts()"
   ]
  },
  {
   "cell_type": "code",
   "execution_count": null,
   "metadata": {},
   "outputs": [],
   "source": [
    "df2['WorkLifeBalance'].value_counts()"
   ]
  },
  {
   "cell_type": "code",
   "execution_count": null,
   "metadata": {},
   "outputs": [],
   "source": [
    "df2['BusinessTravel'].value_counts()"
   ]
  },
  {
   "cell_type": "code",
   "execution_count": null,
   "metadata": {},
   "outputs": [],
   "source": [
    "df2['Department'].value_counts()"
   ]
  },
  {
   "cell_type": "code",
   "execution_count": null,
   "metadata": {
    "scrolled": true
   },
   "outputs": [],
   "source": [
    "df2['DistanceFromHome'].value_counts()"
   ]
  },
  {
   "cell_type": "code",
   "execution_count": null,
   "metadata": {},
   "outputs": [],
   "source": [
    "df2['StandardHours'].value_counts()"
   ]
  },
  {
   "cell_type": "code",
   "execution_count": null,
   "metadata": {
    "scrolled": true
   },
   "outputs": [],
   "source": [
    "df2['DistanceFromHome']"
   ]
  },
  {
   "cell_type": "code",
   "execution_count": null,
   "metadata": {
    "scrolled": true
   },
   "outputs": [],
   "source": [
    "df2['EmployeeCount']"
   ]
  },
  {
   "cell_type": "code",
   "execution_count": null,
   "metadata": {},
   "outputs": [],
   "source": [
    "df2.drop(columns=['EmployeeCount', 'StandardHours'])"
   ]
  },
  {
   "cell_type": "code",
   "execution_count": null,
   "metadata": {
    "scrolled": false
   },
   "outputs": [],
   "source": [
    "df2['EducationField'].value_counts()"
   ]
  },
  {
   "cell_type": "code",
   "execution_count": null,
   "metadata": {},
   "outputs": [],
   "source": [
    "from sklearn.preprocessing import LabelEncoder\n",
    "# Create a LabelEncoder object\n",
    "label_encoder = LabelEncoder()\n",
    "\n",
    "# Fit and transform the 'Attrition' column\n",
    "df2['Attrition'] = label_encoder.fit_transform(df2['Attrition'])\n",
    "\n",
    "\n",
    "# Manually invert the encoded values\n",
    "df2['Attrition'] = 1 - df2['Attrition']\n"
   ]
  },
  {
   "cell_type": "code",
   "execution_count": null,
   "metadata": {
    "scrolled": false
   },
   "outputs": [],
   "source": [
    "df2['Attrition']"
   ]
  },
  {
   "cell_type": "code",
   "execution_count": null,
   "metadata": {},
   "outputs": [],
   "source": [
    "grouped_df = df2.groupby(['Attrition', 'Age'])\n",
    "group_sizes = grouped_df.size()\n",
    "print(group_sizes)\n"
   ]
  },
  {
   "cell_type": "code",
   "execution_count": null,
   "metadata": {},
   "outputs": [],
   "source": [
    "# Convert group_sizes to DataFrame for easier manipulation\n",
    "group_sizes_df = group_sizes.reset_index(name='Count')\n",
    "\n",
    "# Plotting the bar graph\n",
    "plt.figure(figsize=(12, 6))\n",
    "sns.barplot(data=group_sizes_df, x='Age', y='Count', hue='Attrition')\n",
    "plt.title('Count of Employees by Age and Attrition')\n",
    "plt.xlabel('Age')\n",
    "plt.ylabel('Count')\n",
    "plt.xticks(rotation=45)\n",
    "plt.show()"
   ]
  },
  {
   "cell_type": "code",
   "execution_count": null,
   "metadata": {},
   "outputs": [],
   "source": [
    "grouped_df = df2.groupby(['Attrition', 'Age'])\n",
    "group_sizes = grouped_df.size()\n",
    "print(group_sizes)"
   ]
  },
  {
   "cell_type": "markdown",
   "metadata": {},
   "source": [
    "yes=0  \n",
    "no=1"
   ]
  },
  {
   "cell_type": "code",
   "execution_count": null,
   "metadata": {
    "scrolled": true
   },
   "outputs": [],
   "source": [
    "df2.corr()"
   ]
  },
  {
   "cell_type": "markdown",
   "metadata": {},
   "source": [
    "Strongest correlations between Attrition and:\n",
    "\n",
    "* Age  \n",
    "* monthly income  \n",
    "* years in current role  \n",
    "* job level'State'"
   ]
  },
  {
   "cell_type": "code",
   "execution_count": null,
   "metadata": {},
   "outputs": [],
   "source": [
    "# Histogram of Age\n",
    "plt.figure(figsize=(10, 6))\n",
    "sns.histplot(df2['Age'], kde=True)\n",
    "plt.title('Histogram of Age')\n",
    "plt.xlabel('Age')\n",
    "plt.ylabel('Frequency')\n",
    "plt.show()"
   ]
  },
  {
   "cell_type": "code",
   "execution_count": null,
   "metadata": {},
   "outputs": [],
   "source": [
    "# Bar Plot of Attrition\n",
    "plt.figure(figsize=(8, 5))\n",
    "sns.countplot(data=df2, x='Attrition')\n",
    "plt.title('Attrition Count')\n",
    "plt.xlabel('Attrition')\n",
    "plt.ylabel('Count')\n",
    "plt.show()"
   ]
  },
  {
   "cell_type": "code",
   "execution_count": null,
   "metadata": {},
   "outputs": [],
   "source": [
    "# Box Plot of MonthlyIncome by Department\n",
    "plt.figure(figsize=(10, 6))\n",
    "sns.boxplot(data=df2, x='Department', y='MonthlyIncome')\n",
    "plt.title('Monthly Income Distribution by Department')\n",
    "plt.xlabel('Department')\n",
    "plt.ylabel('Monthly Income')\n",
    "plt.show()"
   ]
  },
  {
   "cell_type": "code",
   "execution_count": null,
   "metadata": {},
   "outputs": [],
   "source": [
    "# Scatter Plot of YearsAtCompany vs. YearsSinceLastPromotion\n",
    "plt.figure(figsize=(10, 6))\n",
    "sns.scatterplot(data=df2, x='YearsAtCompany', y='YearsSinceLastPromotion', alpha=0.5)\n",
    "plt.title('Years at Company vs. Years Since Last Promotion')\n",
    "plt.xlabel('Years at Company')\n",
    "plt.ylabel('Years Since Last Promotion')\n",
    "plt.show()"
   ]
  },
  {
   "cell_type": "markdown",
   "metadata": {},
   "source": [
    "### Project 2  \n",
    "Binary classification of which employees are likely to attrition and why"
   ]
  },
  {
   "cell_type": "code",
   "execution_count": null,
   "metadata": {},
   "outputs": [],
   "source": []
  },
  {
   "cell_type": "code",
   "execution_count": null,
   "metadata": {},
   "outputs": [],
   "source": []
  },
  {
   "cell_type": "code",
   "execution_count": null,
   "metadata": {},
   "outputs": [],
   "source": []
  },
  {
   "cell_type": "code",
   "execution_count": null,
   "metadata": {},
   "outputs": [],
   "source": []
  },
  {
   "cell_type": "code",
   "execution_count": null,
   "metadata": {},
   "outputs": [],
   "source": []
  },
  {
   "cell_type": "code",
   "execution_count": null,
   "metadata": {},
   "outputs": [],
   "source": []
  },
  {
   "cell_type": "code",
   "execution_count": null,
   "metadata": {},
   "outputs": [],
   "source": []
  },
  {
   "cell_type": "code",
   "execution_count": null,
   "metadata": {},
   "outputs": [],
   "source": []
  },
  {
   "cell_type": "code",
   "execution_count": null,
   "metadata": {},
   "outputs": [],
   "source": []
  },
  {
   "cell_type": "code",
   "execution_count": null,
   "metadata": {},
   "outputs": [],
   "source": []
  },
  {
   "cell_type": "code",
   "execution_count": null,
   "metadata": {},
   "outputs": [],
   "source": []
  },
  {
   "cell_type": "code",
   "execution_count": null,
   "metadata": {},
   "outputs": [],
   "source": []
  },
  {
   "cell_type": "code",
   "execution_count": null,
   "metadata": {},
   "outputs": [],
   "source": []
  },
  {
   "cell_type": "markdown",
   "metadata": {},
   "source": [
    "## SW US Census Migration Data"
   ]
  },
  {
   "cell_type": "code",
   "execution_count": null,
   "metadata": {
    "scrolled": true
   },
   "outputs": [],
   "source": [
    "df3 = pd.read_csv('us_census.csv')\n",
    "df3"
   ]
  },
  {
   "cell_type": "code",
   "execution_count": null,
   "metadata": {},
   "outputs": [],
   "source": [
    "df3.info()"
   ]
  },
  {
   "cell_type": "code",
   "execution_count": null,
   "metadata": {},
   "outputs": [],
   "source": [
    "df3['State'].value_counts().sort_values(ascending=True)"
   ]
  },
  {
   "cell_type": "markdown",
   "metadata": {},
   "source": [
    "NE, or SW region"
   ]
  },
  {
   "cell_type": "code",
   "execution_count": null,
   "metadata": {},
   "outputs": [],
   "source": [
    "# List of allowed states\n",
    "allowed_states = ['California', 'Arizona', 'New Mexico', 'Texas', 'Nevada', 'Utah']\n",
    "\n",
    "# Filter the DataFrame to keep only rows with states in the allowed list\n",
    "df3_filtered = df3[df3['State'].isin(allowed_states)]\n",
    "\n",
    "# Print the filtered DataFrame\n",
    "df3_filtered"
   ]
  },
  {
   "cell_type": "code",
   "execution_count": null,
   "metadata": {},
   "outputs": [],
   "source": [
    "df3_filtered['County'].value_counts()"
   ]
  },
  {
   "cell_type": "code",
   "execution_count": null,
   "metadata": {},
   "outputs": [],
   "source": [
    "df3_filtered['TotalPop'].sum()"
   ]
  },
  {
   "cell_type": "code",
   "execution_count": null,
   "metadata": {
    "scrolled": true
   },
   "outputs": [],
   "source": [
    "df3_filtered.corr()"
   ]
  },
  {
   "cell_type": "markdown",
   "metadata": {},
   "source": [
    "## Linear Regression to determine pop density over SW USA."
   ]
  },
  {
   "cell_type": "markdown",
   "metadata": {},
   "source": [
    "* Hr data 1st\n",
    "* Census Data 2nd"
   ]
  },
  {
   "cell_type": "code",
   "execution_count": null,
   "metadata": {},
   "outputs": [],
   "source": [
    "* SMOTE yes value    \n",
    "* Random UNdersampling with stratification   \n",
    "\n",
    "* this is a **limitation**  \n",
    "\n",
    "3 model types\n",
    "optimize (grid search) best model"
   ]
  }
 ],
 "metadata": {
  "kernelspec": {
   "display_name": "Python 3",
   "language": "python",
   "name": "python3"
  },
  "language_info": {
   "codemirror_mode": {
    "name": "ipython",
    "version": 3
   },
   "file_extension": ".py",
   "mimetype": "text/x-python",
   "name": "python",
   "nbconvert_exporter": "python",
   "pygments_lexer": "ipython3",
   "version": "3.8.5"
  }
 },
 "nbformat": 4,
 "nbformat_minor": 4
}
